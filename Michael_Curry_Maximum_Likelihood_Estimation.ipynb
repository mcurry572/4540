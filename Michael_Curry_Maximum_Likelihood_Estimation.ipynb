{
  "cells": [
    {
      "cell_type": "markdown",
      "metadata": {
        "id": "view-in-github",
        "colab_type": "text"
      },
      "source": [
        "<a href=\"https://colab.research.google.com/github/mcurry572/4540/blob/main/Michael_Curry_Maximum_Likelihood_Estimation.ipynb\" target=\"_parent\"><img src=\"https://colab.research.google.com/assets/colab-badge.svg\" alt=\"Open In Colab\"/></a>"
      ]
    },
    {
      "cell_type": "markdown",
      "metadata": {
        "id": "J-JaRtxcMPJ0"
      },
      "source": [
        "<a target=\"_blank\" href=\"https://colab.research.google.com/github/cyneuro/Neural-Networks-Machine-Learning/blob/main/stats/Maximum_Likelihood_Estimation.ipynb\">\n",
        "  <img src=\"https://colab.research.google.com/assets/colab-badge.svg\" alt=\"Open In Colab\"/>\n",
        "</a>"
      ]
    },
    {
      "cell_type": "markdown",
      "metadata": {
        "collapsed": false,
        "pycharm": {
          "name": "#%% md\n"
        },
        "id": "iyVchALFMPJ2"
      },
      "source": [
        "## Maximum Likelihood Estimation\n",
        "\n",
        "This notebook assumes the data is a standard continuous normal distribution. The number of random samples, mean, and standard deviation of the distribution can be set in lines 7-9 in code cell 1.\n",
        "\n",
        "The function `gaussian` calculates the negative log likelihood given the random samples and the initial predicted mean and standard deviations defined in initParams.\n",
        "\n",
        "The key to the whole program is the scipy function `minimize`. It is a regular optimization function and more information about it can be found [here](https://docs.scipy.org/doc/scipy/reference/generated/scipy.optimize.minimize.html).\n",
        "\n",
        "**Note:** the method can be a lot of different options, all different mathematical optimization techniques.\n",
        "\n",
        "\n",
        "#### Questions:\n",
        "1. If everything is working, we would expect more accurate $\\mu^*$ and $\\sigma^*$ predictions with more random samples. Think about why this is.\n",
        "  - Just as you see when you flip a coin 10 times compared to 1000's of times you see the true values once there is more data presented. There is even the law of large numbers which supports this. The chance of error goes down with more data.\n",
        "2. What happens when the initial parameter guesses are extremely off? What about when they're extremely close? How does this impact the number of samples?\n",
        "  - If your guesses are far off, your optimization function will take more iterations to come true. In contrast, if you guesses are close your optimization function will converge much quicker. The more samples you have the lower variance you should have. You will find a more true value when you have more samples.\n",
        "3. Break down each line in the `gaussian` function. Knowing what you know about MLE, what do you think the function `stats.norm.logpdf` does?\n",
        "  - nll = -np.sum(stats.norm.logpdf(sample_data, loc=mean, scale=sd)) - this line is looking at the negative log liklihood based on the mean and standard deviation. once this runs, the results minimizes the negative log liklihood. This is equivalent to finding the maximum. Afterwards the maximized results are printed out."
      ]
    },
    {
      "cell_type": "code",
      "execution_count": 4,
      "metadata": {
        "pycharm": {
          "name": "#%%\n"
        },
        "colab": {
          "base_uri": "https://localhost:8080/"
        },
        "id": "75rysFC6MPJ2",
        "outputId": "f4be85c3-6f4f-480f-bb39-3c54e5305773"
      },
      "outputs": [
        {
          "output_type": "stream",
          "name": "stdout",
          "text": [
            "mean*  = 0.182 std*  = 2.655\n",
            "mean   = 0.000 std   = 3.000\n"
          ]
        }
      ],
      "source": [
        "from scipy import stats\n",
        "import numpy as np\n",
        "from scipy.optimize import minimize\n",
        "np.random.seed(1)\n",
        "\n",
        "\n",
        "samples = 100\n",
        "mu      = 0\n",
        "sigma   = 3\n",
        "\n",
        "\n",
        "#  Take random sample from the distribution of data (normal dist in this case)\n",
        "sample_data = np.random.normal(loc=mu, scale=sigma, size=samples)\n",
        "\n",
        "def gaussian(params):\n",
        "    mean = params[0]\n",
        "    sd = params[1]\n",
        "\n",
        "    # Ensuring that standard deviation is always positive\n",
        "    if sd <= 0:\n",
        "        return np.inf\n",
        "\n",
        "    # Calculate negative log likelihood\n",
        "    nll = -np.sum(stats.norm.logpdf(sample_data, loc=mean, scale=sd))\n",
        "\n",
        "    return nll\n",
        "\n",
        "\n",
        "# Initial guesses for mean and standard deviation\n",
        "# I used the sample mean and the standard deviation for a better start\n",
        "initParams = [np.mean(sample_data), np.std(sample_data, ddof=1)]\n",
        "\n",
        "results = minimize(gaussian, initParams, method='Nelder-Mead')\n",
        "\n",
        "\n",
        "print('mean*  = {:.3f} std*  = {:.3f}'.format(results.x[0],results.x[1]))\n",
        "print('mean   = {:.3f} std   = {:.3f}'.format(mu, sigma))\n"
      ]
    },
    {
      "cell_type": "code",
      "execution_count": 5,
      "metadata": {
        "pycharm": {
          "name": "#%%\n"
        },
        "colab": {
          "base_uri": "https://localhost:8080/",
          "height": 430
        },
        "id": "xJnLcZCMMPJ4",
        "outputId": "cb796995-160e-439d-89e5-c30c704efc75"
      },
      "outputs": [
        {
          "output_type": "display_data",
          "data": {
            "text/plain": [
              "<Figure size 640x480 with 1 Axes>"
            ],
            "image/png": "[encoded data removed]"
          },
          "metadata": {}
        }
      ],
      "source": [
        "import matplotlib.pyplot as plt\n",
        "\n",
        "def normal_dist(inp, mean, std):\n",
        "    return 1./(np.sqrt(2.*np.pi)*std)*np.exp(-np.power((inp - mean)/std, 2.)/2)\n",
        "\n",
        "x = np.arange(-10, 10, 0.1)\n",
        "y = normal_dist(x, mu, sigma)\n",
        "\n",
        "num_bins = 20\n",
        "\n",
        "count, bins, ignored = plt.hist(sample_data, bins=num_bins, density=True)\n",
        "plt.plot(bins, 1/(sigma * np.sqrt(2 * np.pi)) * np.exp( - (bins - mu)**2 / (2 * sigma**2) ))\n",
        "plt.show()"
      ]
    },
    {
      "cell_type": "code",
      "execution_count": 5,
      "metadata": {
        "pycharm": {
          "name": "#%%\n"
        },
        "id": "l4dG3BsuMPJ4"
      },
      "outputs": [],
      "source": []
    }
  ],
  "metadata": {
    "kernelspec": {
      "display_name": "NME",
      "language": "python",
      "name": "python3"
    },
    "language_info": {
      "codemirror_mode": {
        "name": "ipython",
        "version": 3
      },
      "file_extension": ".py",
      "mimetype": "text/x-python",
      "name": "python",
      "nbconvert_exporter": "python",
      "pygments_lexer": "ipython3",
      "version": "3.10.16"
    },
    "colab": {
      "provenance": [],
      "include_colab_link": true
    }
  },
  "nbformat": 4,
  "nbformat_minor": 0
}